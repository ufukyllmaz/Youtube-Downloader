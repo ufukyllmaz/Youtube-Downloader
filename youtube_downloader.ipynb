{
 "cells": [
  {
   "cell_type": "code",
   "execution_count": 1,
   "metadata": {},
   "outputs": [],
   "source": [
    "import yt_dlp\n",
    "import os"
   ]
  },
  {
   "cell_type": "code",
   "execution_count": 2,
   "metadata": {},
   "outputs": [],
   "source": [
    "options={'verbose' : True,\n",
    "         'allow_unplayable_formats' : True,\n",
    "         'path' : os.path.dirname(os.path.realpath('__file__')),\n",
    "         'restrictfilenames' : True,\n",
    "         'trim_file_name' : 10\n",
    "         }"
   ]
  },
  {
   "cell_type": "code",
   "execution_count": 3,
   "metadata": {},
   "outputs": [],
   "source": [
    "url = 'https://www.youtube.com/watch?v=El_rXKakbS0'"
   ]
  },
  {
   "cell_type": "code",
   "execution_count": 4,
   "metadata": {},
   "outputs": [
    {
     "name": "stderr",
     "output_type": "stream",
     "text": [
      "WARNING: You have asked for UNPLAYABLE formats to be listed/downloaded. This is a developer option intended for debugging. \n",
      "         If you experience any issues while using this option, DO NOT open a bug report\n",
      "[debug] Encodings: locale UTF-8, fs utf-8, pref UTF-8, out UTF-8 (No ANSI), error UTF-8 (No ANSI), screen UTF-8 (No ANSI)\n",
      "[debug] yt-dlp version stable@2023.10.13 [b634ba742] (pip) API\n",
      "[debug] params: {'verbose': True, 'allow_unplayable_formats': True, 'path': '/Users/gtmac22/Desktop/PersonalWork/GitHub/Youtube-Downloader', 'restrictfilenames': True, 'trim_file_name': 10, 'compat_opts': set(), 'http_headers': {'User-Agent': 'Mozilla/5.0 (Windows NT 10.0; Win64; x64) AppleWebKit/537.36 (KHTML, like Gecko) Chrome/96.0.4664.45 Safari/537.36', 'Accept': 'text/html,application/xhtml+xml,application/xml;q=0.9,*/*;q=0.8', 'Accept-Language': 'en-us,en;q=0.5', 'Sec-Fetch-Mode': 'navigate'}}\n",
      "[debug] Python 3.9.13 (CPython x86_64 64bit) - macOS-10.16-x86_64-i386-64bit (OpenSSL 1.1.1q  5 Jul 2022)\n",
      "[debug] exe versions: none\n",
      "[debug] Optional libraries: Cryptodome-3.19.0, brotli-None, certifi-2022.09.24, mutagen-1.47.0, sqlite3-3.39.3, websockets-12.0\n",
      "[debug] Proxy map: {}\n",
      "[debug] Loaded 1890 extractors\n"
     ]
    },
    {
     "name": "stdout",
     "output_type": "stream",
     "text": [
      "[youtube] Extracting URL: https://www.youtube.com/watch?v=El_rXKakbS0\n",
      "[youtube] El_rXKakbS0: Downloading webpage\n",
      "[youtube] El_rXKakbS0: Downloading ios player API JSON\n",
      "[youtube] El_rXKakbS0: Downloading android player API JSON\n",
      "[youtube] El_rXKakbS0: Downloading m3u8 information\n"
     ]
    },
    {
     "name": "stderr",
     "output_type": "stream",
     "text": [
      "[debug] Sort order given by extractor: quality, res, fps, hdr:12, source, vcodec:vp9.2, channels, acodec, lang, proto\n",
      "[debug] Formats sorted by: hasvid, ie_pref, quality, res, fps, hdr:12(7), source, vcodec:vp9.2(10), channels, acodec, lang, proto, size, br, asr, vext, aext, hasaud, id\n",
      "[debug] Default format spec: best/bestvideo+bestaudio\n"
     ]
    },
    {
     "name": "stdout",
     "output_type": "stream",
     "text": [
      "[info] El_rXKakbS0: Downloading 1 format(s): 22\n"
     ]
    },
    {
     "name": "stderr",
     "output_type": "stream",
     "text": [
      "[debug] Invoking http downloader on \"https://rr4---sn-u0g3uxax3-pnuk.googlevideo.com/videoplayback?expire=1699674109&ei=naNOZcXiAta-6dsPv5Gs-Ac&ip=88.230.171.20&id=o-AEuZwCja8iZCjdYFtvuUNMqFvb0amjP24GfodhUvarcs&itag=22&source=youtube&requiressl=yes&mh=ox&mm=31%2C29&mn=sn-u0g3uxax3-pnuk%2Csn-nv47ln6e&ms=au%2Crdu&mv=m&mvi=4&pl=21&initcwndbps=1007500&spc=UWF9fyniEfszk-Gn7N17ztePk9vpuXE&vprv=1&svpuc=1&mime=video%2Fmp4&cnr=14&ratebypass=yes&dur=171.061&lmt=1696016996359859&mt=1699652227&fvip=4&fexp=24007246&beids=24350018&c=ANDROID&txp=4432434&sparams=expire%2Cei%2Cip%2Cid%2Citag%2Csource%2Crequiressl%2Cspc%2Cvprv%2Csvpuc%2Cmime%2Ccnr%2Cratebypass%2Cdur%2Clmt&sig=ANLwegAwRAIgbpriOt_FUOtvXOzvYgdpBejnNdz_05MWWQlWWLoOiC8CIB8SHz7EIgSCenEYsGCAKB2vNv_-WD_tsnedWCSxb4hR&lsparams=mh%2Cmm%2Cmn%2Cms%2Cmv%2Cmvi%2Cpl%2Cinitcwndbps&lsig=AM8Gb2swRQIhANAe9pcwoI6lerpQ-XIjP8mFg9iiLg1Pjyl6Z2_WnMOmAiAmAZl8YjasHtUg0H4LqvutpfdzHSgmvn2gIwAL9WZCzA%3D%3D\"\n"
     ]
    },
    {
     "name": "stdout",
     "output_type": "stream",
     "text": [
      "[download] Destination: Veda_Filmi.mp4\n",
      "[download] 100% of    9.62MiB in 00:00:01 at 7.12MiB/s   \n"
     ]
    },
    {
     "data": {
      "text/plain": [
       "0"
      ]
     },
     "execution_count": 4,
     "metadata": {},
     "output_type": "execute_result"
    }
   ],
   "source": [
    "downloader = yt_dlp.YoutubeDL(params=options)\n",
    "downloader.download(url)"
   ]
  },
  {
   "cell_type": "code",
   "execution_count": null,
   "metadata": {},
   "outputs": [],
   "source": []
  }
 ],
 "metadata": {
  "kernelspec": {
   "display_name": "base",
   "language": "python",
   "name": "python3"
  },
  "language_info": {
   "codemirror_mode": {
    "name": "ipython",
    "version": 3
   },
   "file_extension": ".py",
   "mimetype": "text/x-python",
   "name": "python",
   "nbconvert_exporter": "python",
   "pygments_lexer": "ipython3",
   "version": "3.9.13"
  },
  "orig_nbformat": 4,
  "vscode": {
   "interpreter": {
    "hash": "8cfb22f7ad758691768dcc572bcc29c8b09a8a49fcfaf5a8015c4aba90c19555"
   }
  }
 },
 "nbformat": 4,
 "nbformat_minor": 2
}
