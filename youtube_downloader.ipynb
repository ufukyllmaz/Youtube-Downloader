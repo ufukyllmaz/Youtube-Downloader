{
 "cells": [
  {
   "cell_type": "code",
   "execution_count": 14,
   "metadata": {},
   "outputs": [],
   "source": [
    "import yt_dlp\n",
    "import os"
   ]
  },
  {
   "cell_type": "code",
   "execution_count": 20,
   "metadata": {},
   "outputs": [],
   "source": [
    "options={'verbose' : True,\n",
    "         'allow_unplayable_formats' : True,\n",
    "         'path' : os.path.dirname(os.path.realpath('__file__')),\n",
    "         'restrictfilenames' : True,\n",
    "         'trim_file_name' : 10\n",
    "         }"
   ]
  },
  {
   "cell_type": "code",
   "execution_count": 21,
   "metadata": {},
   "outputs": [
    {
     "name": "stderr",
     "output_type": "stream",
     "text": [
      "WARNING: You have asked for UNPLAYABLE formats to be listed/downloaded. This is a developer option intended for debugging. \n",
      "         If you experience any issues while using this option, DO NOT open a bug report\n",
      "[debug] Encodings: locale UTF-8, fs utf-8, pref UTF-8, out UTF-8 (No ANSI), error UTF-8 (No ANSI), screen UTF-8 (No ANSI)\n",
      "[debug] yt-dlp version stable@2023.10.13 [b634ba742] (pip) API\n",
      "[debug] params: {'verbose': True, 'allow_unplayable_formats': True, 'path': '/Users/gtmac22/Desktop/PersonalWork/GitHub', 'restrictfilenames': True, 'trim_file_name': 10, 'compat_opts': set(), 'http_headers': {'User-Agent': 'Mozilla/5.0 (Windows NT 10.0; Win64; x64) AppleWebKit/537.36 (KHTML, like Gecko) Chrome/96.0.4664.18 Safari/537.36', 'Accept': 'text/html,application/xhtml+xml,application/xml;q=0.9,*/*;q=0.8', 'Accept-Language': 'en-us,en;q=0.5', 'Sec-Fetch-Mode': 'navigate'}}\n",
      "[debug] Python 3.9.13 (CPython x86_64 64bit) - macOS-10.16-x86_64-i386-64bit (OpenSSL 1.1.1q  5 Jul 2022)\n",
      "[debug] exe versions: none\n",
      "[debug] Optional libraries: Cryptodome-3.19.0, brotli-None, certifi-2022.09.24, mutagen-1.47.0, sqlite3-3.39.3, websockets-12.0\n",
      "[debug] Proxy map: {}\n",
      "[debug] Loaded 1890 extractors\n"
     ]
    },
    {
     "name": "stdout",
     "output_type": "stream",
     "text": [
      "[youtube] Extracting URL: https://www.youtube.com/watch?v=vcR9cM3AgjA\n",
      "[youtube] vcR9cM3AgjA: Downloading webpage\n",
      "[youtube] vcR9cM3AgjA: Downloading ios player API JSON\n",
      "[youtube] vcR9cM3AgjA: Downloading android player API JSON\n",
      "[youtube] vcR9cM3AgjA: Downloading m3u8 information\n"
     ]
    },
    {
     "name": "stderr",
     "output_type": "stream",
     "text": [
      "[debug] Sort order given by extractor: quality, res, fps, hdr:12, source, vcodec:vp9.2, channels, acodec, lang, proto\n",
      "[debug] Formats sorted by: hasvid, ie_pref, quality, res, fps, hdr:12(7), source, vcodec:vp9.2(10), channels, acodec, lang, proto, size, br, asr, vext, aext, hasaud, id\n",
      "[debug] Default format spec: best/bestvideo+bestaudio\n"
     ]
    },
    {
     "name": "stdout",
     "output_type": "stream",
     "text": [
      "[info] vcR9cM3AgjA: Downloading 1 format(s): 22\n"
     ]
    },
    {
     "name": "stderr",
     "output_type": "stream",
     "text": [
      "[debug] Invoking http downloader on \"https://rr3---sn-u0g3uxax3-pnu6.googlevideo.com/videoplayback?expire=1699671473&ei=UZlOZZjjOveni9oPt9u90Ak&ip=88.230.171.20&id=o-AFlmp0v9RzK2_CCtGx2qmcNLJcNwLzDAuDSG8KfFB2X7&itag=22&source=youtube&requiressl=yes&mh=ut&mm=31%2C29&mn=sn-u0g3uxax3-pnu6%2Csn-nv47zne7&ms=au%2Crdu&mv=m&mvi=3&pl=21&initcwndbps=973750&spc=UWF9f1f1BFfrHOB5dXJqDqgHc1FBo_4&vprv=1&svpuc=1&mime=video%2Fmp4&cnr=14&ratebypass=yes&dur=851.940&lmt=1697245538161301&mt=1699649592&fvip=4&fexp=24007246&beids=24350018&c=ANDROID&txp=4432434&sparams=expire%2Cei%2Cip%2Cid%2Citag%2Csource%2Crequiressl%2Cspc%2Cvprv%2Csvpuc%2Cmime%2Ccnr%2Cratebypass%2Cdur%2Clmt&sig=ANLwegAwRgIhAIkvUTxGagMsIFfJ2NBwpV7pJAXka40IUU8CbDWcgH7VAiEAm-R1c_b_MrYkrpHrzpjtZ09VebggbHrdGjIQmz4VOsY%3D&lsparams=mh%2Cmm%2Cmn%2Cms%2Cmv%2Cmvi%2Cpl%2Cinitcwndbps&lsig=AM8Gb2swRgIhAP_f4ssREan2ORVR6z7G9sCFQPBwi_MUTI933osudOm9AiEAwN6OklNRZPy-CXymH6GW0F5fl04KDZomZPQLAV_AxW8%3D\"\n"
     ]
    },
    {
     "name": "stdout",
     "output_type": "stream",
     "text": [
      "[download] Destination: Gune_in_et.mp4\n",
      "[download] 100% of   62.69MiB in 00:00:07 at 7.94MiB/s   \n"
     ]
    },
    {
     "data": {
      "text/plain": [
       "0"
      ]
     },
     "execution_count": 21,
     "metadata": {},
     "output_type": "execute_result"
    }
   ],
   "source": [
    "downloader = yt_dlp.YoutubeDL(params=options)\n",
    "downloader.download('https://www.youtube.com/watch?v=vcR9cM3AgjA')"
   ]
  },
  {
   "cell_type": "code",
   "execution_count": null,
   "metadata": {},
   "outputs": [],
   "source": []
  }
 ],
 "metadata": {
  "kernelspec": {
   "display_name": "base",
   "language": "python",
   "name": "python3"
  },
  "language_info": {
   "codemirror_mode": {
    "name": "ipython",
    "version": 3
   },
   "file_extension": ".py",
   "mimetype": "text/x-python",
   "name": "python",
   "nbconvert_exporter": "python",
   "pygments_lexer": "ipython3",
   "version": "3.9.13"
  },
  "orig_nbformat": 4,
  "vscode": {
   "interpreter": {
    "hash": "8cfb22f7ad758691768dcc572bcc29c8b09a8a49fcfaf5a8015c4aba90c19555"
   }
  }
 },
 "nbformat": 4,
 "nbformat_minor": 2
}
